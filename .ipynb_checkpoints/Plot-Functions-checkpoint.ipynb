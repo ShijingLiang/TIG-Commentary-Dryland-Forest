{
 "cells": [
  {
   "cell_type": "code",
   "execution_count": 3,
   "id": "d2059f64-dfd8-40c0-afbf-d1918efe7b2c",
   "metadata": {},
   "outputs": [],
   "source": [
    "import numpy as np\n",
    "import xarray as xr\n",
    "import gc\n",
    "\n",
    "import matplotlib.pyplot as plt\n",
    "import matplotlib as mpl\n",
    "%matplotlib inline\n",
    "import cartopy.crs as ccrs\n",
    "import cartopy.feature as cfeature"
   ]
  },
  {
   "cell_type": "code",
   "execution_count": 5,
   "id": "fa1eaafd-15f4-4f9f-af13-59aae556ed23",
   "metadata": {},
   "outputs": [],
   "source": [
    "path='E:\\\\CESM-Dryland\\\\'"
   ]
  },
  {
   "cell_type": "code",
   "execution_count": null,
   "id": "1d458051-092d-4163-a369-7fe26213e1c0",
   "metadata": {},
   "outputs": [],
   "source": [
    "def make_Ramp(ramp_colors,plot_cbar): \n",
    "    from colour import Color\n",
    "    from matplotlib.colors import LinearSegmentedColormap\n",
    "    \n",
    "    color_ramp = LinearSegmentedColormap.from_list('my_list',[ Color( c1 ).rgb for c1 in ramp_colors ] )\n",
    "    if plot_cbar==True:\n",
    "        plt.figure( figsize = (15,3))\n",
    "        plt.imshow( [list(np.arange(0, len( ramp_colors) , 0.1)) ] , interpolation='nearest', origin='lower', cmap= color_ramp )\n",
    "        plt.xticks([])\n",
    "        plt.yticks([])\n",
    "    return color_ramp\n",
    "\n",
    "OrBu = make_Ramp(['#e17701','#9af764','grey','#02ccef','#056eee',],plot_cbar=False)\n",
    "grey = make_Ramp(['grey','grey',],plot_cbar=False)"
   ]
  },
  {
   "cell_type": "code",
   "execution_count": null,
   "id": "bed698bd-f829-420c-bc5b-4ed10f5f5a55",
   "metadata": {},
   "outputs": [],
   "source": [
    "def get_ds_varname(ds):\n",
    "    vars = list(ds.keys())\n",
    "    if len(vars)==1:\n",
    "        var_name=vars[0]\n",
    "    else:\n",
    "        print('There should is more than ONE variables in the each dataset')\n",
    "    return var_name\n",
    "\n",
    "def get_variable_name(DataArray):\n",
    "    return DataArray.name\n",
    "    \n",
    "def is_increasing(a):\n",
    "    diff = np.ediff1d(a)\n",
    "    return np.all(diff>0)\n",
    "    \n",
    "def flip_lat_lon(ds):\n",
    "    # Convert extent\n",
    "    # Check latitudes from -90-90\n",
    "    if is_increasing(ds.lat)==False:\n",
    "        print('flip lat')\n",
    "        temp = ds.reindex(lat=list(reversed(ds.lat)))\n",
    "        ds = temp.copy()\n",
    "    # Check longituted from 0-360\n",
    "    if np.any(ds.lon<0)==True:\n",
    "        print('flip lon')\n",
    "        lon_fill = xr.where(ds['lon']<0,ds['lon']+360,ds['lon'])\n",
    "        ds_360   = ds.assign_coords({'lon':lon_fill%360})\n",
    "        temp     = ds_360.sel(**{'lon':sorted(ds_360['lon'])})\n",
    "        ds       = temp.copy()\n",
    "    return ds\n",
    "    \n",
    "def open_ai():\n",
    "    ds = xr.open_dataset(path+'ai_plot_mask.nc')\n",
    "    varname =  get_ds_varname(ds)\n",
    "    out = flip_lat_lon(ds[varname])\n",
    "    ds.close()\n",
    "    return out"
   ]
  }
 ],
 "metadata": {
  "kernelspec": {
   "display_name": "Python 3 (ipykernel)",
   "language": "python",
   "name": "python3"
  },
  "language_info": {
   "codemirror_mode": {
    "name": "ipython",
    "version": 3
   },
   "file_extension": ".py",
   "mimetype": "text/x-python",
   "name": "python",
   "nbconvert_exporter": "python",
   "pygments_lexer": "ipython3",
   "version": "3.11.4"
  }
 },
 "nbformat": 4,
 "nbformat_minor": 5
}
